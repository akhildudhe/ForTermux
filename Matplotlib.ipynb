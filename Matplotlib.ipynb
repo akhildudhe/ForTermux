{
 "cells": [
  {
   "cell_type": "code",
   "execution_count": null,
   "metadata": {},
   "outputs": [],
   "source": [
    "Example present in this folder\n",
    "\n",
    "4,1\n",
    "4,3\n",
    "4,4\n",
    "5,1\n",
    "6,1\n",
    "6,2\n",
    "6,3\n",
    "7,1\n",
    "8,1"
   ]
  }
 ],
 "metadata": {
  "kernelspec": {
   "display_name": "Python 3",
   "language": "python",
   "name": "python3"
  },
  "language_info": {
   "codemirror_mode": {
    "name": "ipython",
    "version": 3
   },
   "file_extension": ".py",
   "mimetype": "text/x-python",
   "name": "python",
   "nbconvert_exporter": "python",
   "pygments_lexer": "ipython3",
   "version": "3.7.7"
  }
 },
 "nbformat": 4,
 "nbformat_minor": 4
}
